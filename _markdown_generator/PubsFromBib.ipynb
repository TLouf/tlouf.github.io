{
 "cells": [
  {
   "cell_type": "markdown",
   "metadata": {},
   "source": [
    "# Publications markdown generator for academicpages\n",
    "\n",
    "Takes a set of bibtex of publications and converts them for use with [academicpages.github.io](academicpages.github.io). This is an interactive Jupyter notebook ([see more info here](http://jupyter-notebook-beginner-guide.readthedocs.io/en/latest/what_is_jupyter.html)). \n",
    "\n",
    "The core python code is also in `pubsFromBibs.py`. \n",
    "Run either from the `markdown_generator` folder after replacing updating the publist dictionary with:\n",
    "* bib file names\n",
    "* specific venue keys based on your bib file preferences\n",
    "* any specific pre-text for specific files\n",
    "* Collection Name (future feature)\n",
    "\n",
    "TODO: Make this work with other databases of citations, \n",
    "TODO: Merge this with the existing TSV parsing solution"
   ]
  },
  {
   "cell_type": "markdown",
   "metadata": {},
   "source": [
    "TODO: make it parse from bib with entries not necessarily all written by author"
   ]
  },
  {
   "cell_type": "code",
   "execution_count": 1,
   "metadata": {},
   "outputs": [],
   "source": [
    "from pybtex.database.input import bibtex\n",
    "import pybtex.database.input.bibtex\n",
    "import pybtex\n",
    "import time\n",
    "import html\n",
    "import os\n",
    "import re"
   ]
  },
  {
   "cell_type": "code",
   "execution_count": 2,
   "metadata": {},
   "outputs": [],
   "source": [
    "html_escape_table = {\n",
    "    \"&\": \"&amp;\",\n",
    "    '\"': \"&quot;\",\n",
    "    \"'\": \"&apos;\"\n",
    "    }\n",
    "\n",
    "def html_escape(text):\n",
    "    \"\"\"Produce entities within text.\"\"\"\n",
    "    return \"\".join(html_escape_table.get(c,c) for c in text)"
   ]
  },
  {
   "cell_type": "code",
   "execution_count": 7,
   "metadata": {},
   "outputs": [
    {
     "name": "stdout",
     "output_type": "stream",
     "text": [
      "\u001b[0;31mSignature:\u001b[0m \u001b[0mAPA\u001b[0m\u001b[0;34m.\u001b[0m\u001b[0mformat_doi\u001b[0m\u001b[0;34m(\u001b[0m\u001b[0me\u001b[0m\u001b[0;34m)\u001b[0m\u001b[0;34m\u001b[0m\u001b[0;34m\u001b[0m\u001b[0m\n",
      "\u001b[0;31mDocstring:\u001b[0m <no docstring>\n",
      "\u001b[0;31mSource:\u001b[0m   \n",
      "    \u001b[0;32mdef\u001b[0m \u001b[0mformat_doi\u001b[0m\u001b[0;34m(\u001b[0m\u001b[0mself\u001b[0m\u001b[0;34m,\u001b[0m \u001b[0me\u001b[0m\u001b[0;34m)\u001b[0m\u001b[0;34m:\u001b[0m\u001b[0;34m\u001b[0m\n",
      "\u001b[0;34m\u001b[0m        \u001b[0;31m# Based on urlbst format.doi\u001b[0m\u001b[0;34m\u001b[0m\n",
      "\u001b[0;34m\u001b[0m        \u001b[0;32mreturn\u001b[0m \u001b[0mhref\u001b[0m\u001b[0;34m[\u001b[0m\u001b[0;34m\u001b[0m\n",
      "\u001b[0;34m\u001b[0m            \u001b[0mjoin\u001b[0m\u001b[0;34m[\u001b[0m\u001b[0;34m\u001b[0m\n",
      "\u001b[0;34m\u001b[0m                \u001b[0;34m'https://doi.org/'\u001b[0m\u001b[0;34m,\u001b[0m\u001b[0;34m\u001b[0m\n",
      "\u001b[0;34m\u001b[0m                \u001b[0mfield\u001b[0m\u001b[0;34m(\u001b[0m\u001b[0;34m'doi'\u001b[0m\u001b[0;34m,\u001b[0m \u001b[0mraw\u001b[0m\u001b[0;34m=\u001b[0m\u001b[0;32mTrue\u001b[0m\u001b[0;34m)\u001b[0m\u001b[0;34m\u001b[0m\n",
      "\u001b[0;34m\u001b[0m            \u001b[0;34m]\u001b[0m\u001b[0;34m,\u001b[0m\u001b[0;34m\u001b[0m\n",
      "\u001b[0;34m\u001b[0m            \u001b[0mjoin\u001b[0m\u001b[0;34m[\u001b[0m\u001b[0;34m\u001b[0m\n",
      "\u001b[0;34m\u001b[0m                \u001b[0;34m'doi:'\u001b[0m\u001b[0;34m,\u001b[0m\u001b[0;34m\u001b[0m\n",
      "\u001b[0;34m\u001b[0m                \u001b[0mfield\u001b[0m\u001b[0;34m(\u001b[0m\u001b[0;34m'doi'\u001b[0m\u001b[0;34m,\u001b[0m \u001b[0mraw\u001b[0m\u001b[0;34m=\u001b[0m\u001b[0;32mTrue\u001b[0m\u001b[0;34m)\u001b[0m\u001b[0;34m\u001b[0m\n",
      "\u001b[0;34m\u001b[0m            \u001b[0;34m]\u001b[0m\u001b[0;34m\u001b[0m\n",
      "\u001b[0;34m\u001b[0m        \u001b[0;34m]\u001b[0m\u001b[0;34m\u001b[0m\u001b[0;34m\u001b[0m\u001b[0m\n",
      "\u001b[0;31mFile:\u001b[0m      ~/Documents/PhD/code/tlouf.github.io/.venv/lib/python3.9/site-packages/formatting/apa.py\n",
      "\u001b[0;31mType:\u001b[0m      method\n"
     ]
    }
   ],
   "source": [
    "APA.format_doi??"
   ]
  },
  {
   "cell_type": "code",
   "execution_count": 4,
   "metadata": {},
   "outputs": [],
   "source": [
    "from pybtex.plugin import find_plugin\n",
    "from pybtex.database import parse_string\n",
    "from pybtex.backends import markdown\n",
    "APA = find_plugin('pybtex.style.formatting', 'apa')()\n",
    "HTML = find_plugin('pybtex.backends', 'html')()\n",
    "MD = markdown.Backend()\n",
    "def bib2html(bibliography, exclude_fields=None):\n",
    "    exclude_fields = exclude_fields or []\n",
    "    if exclude_fields:\n",
    "        bibliography = parse_string(bibliography.to_string('bibtex'), 'bibtex')\n",
    "        for entry in bibliography.entries.values():\n",
    "            for ef in exclude_fields:\n",
    "                if ef in entry.fields.__dict__['_dict']:\n",
    "                    del entry.fields.__dict__['_dict'][ef]\n",
    "    formattedBib = APA.format_bibliography(bibliography)\n",
    "    return [text_to_HTML(entry.text) for entry in formattedBib]\n",
    "\n",
    "def text_to_HTML(text):\n",
    "    return text.render(HTML).replace('<span class=\"bibtex-protected\">', '').replace('</span>', '')\n",
    "# def bib2md(bibliography, exclude_fields=None):\n",
    "#     exclude_fields = exclude_fields or []\n",
    "#     if exclude_fields:\n",
    "#         bibliography = parse_string(bibliography.to_string('bibtex'), 'bibtex')\n",
    "#         for entry in bibliography.entries.values():\n",
    "#             for ef in exclude_fields:\n",
    "#                 if ef in entry.fields.__dict__['_dict']:\n",
    "#                     del entry.fields.__dict__['_dict'][ef]\n",
    "#     formattedBib = APA.format_bibliography(bibliography)\n",
    "#     return [entry.text.render(MD).replace('<span class=\"bibtex-protected\">', '').replace('</span>', '') for entry in formattedBib]"
   ]
  },
  {
   "cell_type": "code",
   "execution_count": 11,
   "metadata": {},
   "outputs": [
    {
     "data": {
      "text/plain": [
       "BibliographyData(\n",
       "  entries=OrderedCaseInsensitiveDict([\n",
       "    ('Louf2021', Entry('article',\n",
       "      fields=[\n",
       "        ('abstract', 'Cultural diversity encoded within languages of the world is at risk, as many languages have become endangered in the last decades in a context of growing globalization. To preserve this diversity, it is first necessary to understand what drives language extinction, and which mechanisms might enable coexistence. Here, we study language shift mechanisms using theoretical and data-driven perspectives. A large-scale empirical analysis of multilingual societies using Twitter and census data yields a wide diversity of spatial patterns of language coexistence. It ranges from a mixing of language speakers to segregation with multilinguals on the boundaries of disjoint linguistic domains. To understand how these different states can emerge and, especially, become stable, we propose a model in which language coexistence is reached when learning the other language is facilitated and when bilinguals favor the use of the endangered language. Simulations carried out in a metapopulation framework highlight the importance of spatial interactions arising from people mobility to explain the stability of a mixed state or the presence of a boundary between two linguistic regions. Further, we find that the history of languages is critical to understand their present state.'), \n",
       "        ('doi', '10.1103/PhysRevResearch.3.043146'), \n",
       "        ('file', \":home/thomas/Documents/Mendeley Desktop/Louf, S{\\\\'{a}}nchez, Ramasco - 2021 - Capturing the diversity of multilingual societies.pdf:pdf\"), \n",
       "        ('issn', '2643-1564'), \n",
       "        ('journal', 'Physical Review Research'), \n",
       "        ('keywords', 'doi:10.1103/PhysRevResearch.3.04314\n",
       "        6 url:https://doi.org/10.1103/PhysRevResearch.3.043146'), \n",
       "        ('mendeley-groups', 'me,multiling-twitter'), \n",
       "        ('month', 'nov'), \n",
       "        ('number', '4'), \n",
       "        ('pages', '043146'), \n",
       "        ('publisher', 'American Physical Society'), \n",
       "        ('title', '{Capturing the diversity of multilingual societies}'), ('url', 'https://journals.aps.org/prresearch/abstract/10.1103/PhysRevResearch.3.043146'), \n",
       "        ('volume', '3'), \n",
       "        ('year', '2021')],\n",
       "      persons=OrderedCaseInsensitiveDict([('author', [Person('Louf, Thomas'), Person(\"S{\\\\'{a}}nchez, David\"), Person(\"Ramasco, Jos{\\\\'{e}} J.\")])])))]),\n",
       "\n",
       "  preamble=[])"
      ]
     },
     "execution_count": 11,
     "metadata": {},
     "output_type": "execute_result"
    }
   ],
   "source": [
    "parse_string(p.to_string('bibtex'), 'bibtex')"
   ]
  },
  {
   "cell_type": "code",
   "execution_count": 13,
   "metadata": {},
   "outputs": [
    {
     "name": "stdout",
     "output_type": "stream",
     "text": [
      "SUCESSFULLY PARSED Louf2021: \" {Capturing the diversity of multilingual societies}  \"\n"
     ]
    }
   ],
   "source": [
    "pubs = pybtex.database.parse_file('me.bib')\n",
    "my_name = 'Thomas Louf'\n",
    "my_cit_name = 'Louf, T.'\n",
    "\n",
    "for i, (bib_id, p) in enumerate(pubs.entries.items()):\n",
    "    yaml_dict = {'collection': 'publications'}\n",
    "    try:\n",
    "        pub_year = p.fields['year']\n",
    "\n",
    "        #todo: this hack for month and day needs some cleanup\n",
    "        pub_month = p.fields.get('month')\n",
    "        full_month = ''\n",
    "        if pub_month is not None:\n",
    "            if len(pub_month) < 3:\n",
    "                pub_month = \"0\" + pub_month\n",
    "                pub_month = pub_month[-2:]\n",
    "            elif pub_month not in range(12):\n",
    "                tmnth = time.strptime(pub_month[:3],'%b').tm_mon   \n",
    "                pub_month = \"{:02d}\".format(tmnth) \n",
    "            else:\n",
    "                pub_month = str(pub_month)\n",
    "            full_month = time.strftime('%B', time.strptime(pub_month, '%m'))\n",
    "        pub_day = p.fields.get('day')\n",
    "\n",
    "        pub_date = '-'.join([x for x in [pub_year, pub_month, pub_day] if x is not None])\n",
    "        if pub_month is None:\n",
    "            pretty_date = pub_year\n",
    "        elif pub_day is None:\n",
    "            pretty_date = f'{full_month}, {pub_year}'\n",
    "        else:\n",
    "            pretty_date = f'{full_month} {pub_day}, {pub_year}'\n",
    "        yaml_dict['print_date'] = pretty_date\n",
    "        \n",
    "        pub_title = p.fields['title']\n",
    "        # strip out {} as needed (some bibtex entries that maintain formatting)\n",
    "        clean_title = pub_title.replace(\"{\", \"\").replace(\"}\",\"\").replace(\"\\\\\",\"\")\n",
    "        yaml_dict['title'] = html_escape(clean_title)\n",
    "        \n",
    "        url_slug = re.sub(\"\\\\[.*\\\\]|[^a-zA-Z0-9_-]\", \"\", clean_title.replace(\" \",\"-\")).replace(\"--\",\"-\")\n",
    "        md_filename = (str(pub_date) + \"-\" + url_slug + \".md\").replace(\"--\",\"-\")\n",
    "        html_filename = (str(pub_date) + \"-\" + url_slug).replace(\"--\",\"-\")\n",
    "        yaml_dict['permalink'] = '/publication/'  + html_filename\n",
    "        \n",
    "        # Build Citation from text\n",
    "        citation = bib2html(p, exclude_fields=['month', 'url'])\n",
    "        yaml_dict['citation'] = re.sub(r'\"|[a-z&]{3,5};', '', html_escape(citation))\n",
    "        yaml_dict['type'] = p.type\n",
    "        # add venue logic depending on citation type\n",
    "        if p.type != 'unpublished':\n",
    "            if p.type == 'inproceedings':\n",
    "                venue_key = 'booktitle'\n",
    "            elif p.type == 'article':\n",
    "                venue_key = 'journal'\n",
    "            venue = p.fields.get(venue_key, '').replace(\"{\", \"\").replace(\"}\",\"\").replace(\"\\\\\",\"\")\n",
    "            yaml_dict['venue'] = html_escape(venue)\n",
    "            \n",
    "        authors = p.persons[\"author\"]\n",
    "        author_iter = zip(\n",
    "            [' '.join(a.first_names) for a in authors],\n",
    "            [' '.join(a.middle_names) for a in authors],\n",
    "            [' '.join(a.last_names) for a in authors])\n",
    "        authors = ', '.join([' '.join(a) for a in author_iter])\n",
    "        authors = text_to_HTML(pybtex.richtext.Text.from_latex(authors))\n",
    "        start_idx = authors.find(my_name)\n",
    "        bolded = f'<b>{my_name}</b>'\n",
    "        authors = authors[:start_idx] + bolded + authors[start_idx+len(my_name):]\n",
    "        yaml_dict['authors'] = authors\n",
    "        \n",
    "        yaml_dict['paperurl'] = p.fields.get('url')\n",
    "        yaml_dict['arxivId'] = p.fields.get('arxivId')\n",
    "        # YAML variables\n",
    "        md = '---\\n'\n",
    "        md += '\\n'.join([f'{key}: \"{value}\"' for key, value in yaml_dict.items() if value])\n",
    "        md += '\\n---'\n",
    "        # Content\n",
    "        md += '\\n' + text_to_HTML(pybtex.richtext.Text.from_latex(p.fields.get('abstract', '')))\n",
    "        \n",
    "        md_filename = os.path.basename(md_filename)\n",
    "        with open(\"../_publications/\" + md_filename, 'w') as f:\n",
    "            f.write(md)\n",
    "        print(f'SUCESSFULLY PARSED {bib_id}: \\\"', pub_title[:60],\"...\"*(len(pub_title)>60),\"\\\"\")\n",
    "    # field may not exist for a reference\n",
    "    except KeyError as e:\n",
    "        print(f'WARNING Missing Expected Field {e} from entry {bib_id}: \\\"', pub_title[:30],\"...\"*(len(pub_title)>30),\"\\\"\")\n",
    "        continue\n",
    "    break"
   ]
  },
  {
   "cell_type": "code",
   "execution_count": null,
   "metadata": {},
   "outputs": [],
   "source": []
  }
 ],
 "metadata": {
  "kernelspec": {
   "display_name": "Python 3",
   "language": "python",
   "name": "python3"
  },
  "language_info": {
   "codemirror_mode": {
    "name": "ipython",
    "version": 3
   },
   "file_extension": ".py",
   "mimetype": "text/x-python",
   "name": "python",
   "nbconvert_exporter": "python",
   "pygments_lexer": "ipython3",
   "version": "3.9.5"
  }
 },
 "nbformat": 4,
 "nbformat_minor": 4
}
