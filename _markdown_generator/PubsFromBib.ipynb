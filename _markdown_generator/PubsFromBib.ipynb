{
 "cells": [
  {
   "attachments": {},
   "cell_type": "markdown",
   "metadata": {},
   "source": [
    "# Publications markdown generator for academicpages\n",
    "\n",
    "Takes a set of bibtex of publications and converts them for use with [academicpages.github.io](academicpages.github.io). This is an interactive Jupyter notebook ([see more info here](http://jupyter-notebook-beginner-guide.readthedocs.io/en/latest/what_is_jupyter.html)). \n",
    "\n",
    "The core python code is also in `pubsFromBibs.py`. \n",
    "Run either from the `markdown_generator` folder after replacing updating the publist dictionary with:\n",
    "* bib file names\n",
    "* specific venue keys based on your bib file preferences\n",
    "* any specific pre-text for specific files\n",
    "* Collection Name (future feature)"
   ]
  },
  {
   "cell_type": "code",
   "execution_count": 1,
   "metadata": {},
   "outputs": [],
   "source": [
    "from pathlib import Path\n",
    "import pybtex.database.input.bibtex\n",
    "import pybtex\n",
    "from datetime import datetime\n",
    "import re"
   ]
  },
  {
   "cell_type": "code",
   "execution_count": 2,
   "metadata": {},
   "outputs": [],
   "source": [
    "project_root = Path(\"..\")"
   ]
  },
  {
   "cell_type": "code",
   "execution_count": 3,
   "metadata": {},
   "outputs": [],
   "source": [
    "html_escape_table = {\n",
    "    \"&\": \"&amp;\",\n",
    "    '\"': \"&quot;\",\n",
    "    \"'\": \"&apos;\"\n",
    "    }\n",
    "\n",
    "def html_escape(text):\n",
    "    \"\"\"Produce entities within text.\"\"\"\n",
    "    return \"\".join(html_escape_table.get(c,c) for c in text)"
   ]
  },
  {
   "cell_type": "code",
   "execution_count": 4,
   "metadata": {},
   "outputs": [],
   "source": [
    "from pybtex.plugin import find_plugin\n",
    "from pybtex.database import parse_string\n",
    "from pybtex.backends import markdown\n",
    "APA = find_plugin('pybtex.style.formatting', 'apa')()\n",
    "HTML = find_plugin('pybtex.backends', 'html')()\n",
    "MD = markdown.Backend()\n",
    "\n",
    "def bib2html(bibliography, exclude_fields=None):\n",
    "    exclude_fields = exclude_fields or []\n",
    "    if exclude_fields:\n",
    "        bibliography = parse_string(bibliography.to_string('bibtex'), 'bibtex')\n",
    "        for entry in bibliography.entries.values():\n",
    "            for ef in exclude_fields:\n",
    "                if ef in entry.fields.__dict__['_dict']:\n",
    "                    del entry.fields.__dict__['_dict'][ef]\n",
    "    formattedBib = APA.format_bibliography(bibliography)\n",
    "    return [text_to_HTML(entry.text) for entry in formattedBib]\n",
    "\n",
    "def text_to_HTML(text):\n",
    "    return text.render(HTML).replace('<span class=\"bibtex-protected\">', '').replace('</span>', '')\n",
    "\n",
    "# def bib2md(bibliography, exclude_fields=None):\n",
    "#     exclude_fields = exclude_fields or []\n",
    "#     if exclude_fields:\n",
    "#         bibliography = parse_string(bibliography.to_string('bibtex'), 'bibtex')\n",
    "#         for entry in bibliography.entries.values():\n",
    "#             for ef in exclude_fields:\n",
    "#                 if ef in entry.fields.__dict__['_dict']:\n",
    "#                     del entry.fields.__dict__['_dict'][ef]\n",
    "#     formattedBib = APA.format_bibliography(bibliography)\n",
    "#     return [entry.text.render(MD).replace('<span class=\"bibtex-protected\">', '').replace('</span>', '') for entry in formattedBib]"
   ]
  },
  {
   "cell_type": "code",
   "execution_count": 12,
   "metadata": {},
   "outputs": [
    {
     "data": {
      "text/plain": [
       "('2024', '10', None)"
      ]
     },
     "execution_count": 12,
     "metadata": {},
     "output_type": "execute_result"
    }
   ],
   "source": [
    "re.match(r'([0-9]{4})-?([0-9]{2})?-?([0-9]{2})?', '2024-10').groups()"
   ]
  },
  {
   "cell_type": "code",
   "execution_count": 18,
   "metadata": {},
   "outputs": [
    {
     "name": "stdout",
     "output_type": "stream",
     "text": [
      "../_publications/2025-02-10-Unveiling-the-Drivers-of-Active-Participation-in-Social-Media-Discourse.md\n",
      "SUCESSFULLY PARSED BaqirUnveilingDrivers2025: \" Unveiling the Drivers of Active Participation in Social Medi ... \"\n",
      "../_publications/2020-12-10-Dynamic-Noise-Maps-for-Ljubljana-Airport.md\n",
      "SUCESSFULLY PARSED GanicDynamicNoise2020: \" Dynamic Noise Maps for {{Ljubljana}} Airport  \"\n",
      "2023 None None\n",
      "../_publications/2023-Algoritmos-de-Agrupamiento-y-Linguistica-de-Corpus-Ortografia-y-Lexico-en-Documentos-Mallorquines-del-Siglo-XVIII.md\n",
      "SUCESSFULLY PARSED LoufAlgoritmosAgrupamiento2023: \" Algoritmos de Agrupamiento y Ling\\\"u\\'istica de Corpus: Orto ... \"\n",
      "../_publications/2023-03-30-American-Cultural-Regions-Mapped-through-the-Lexical-Analysis-of-Social-Media.md\n",
      "SUCESSFULLY PARSED LoufAmericanCultural2023: \" American Cultural Regions Mapped through the Lexical Analysi ... \"\n",
      "../_publications/2021-11-30-Capturing-the-Diversity-of-Multilingual-Societies.md\n",
      "SUCESSFULLY PARSED LoufCapturingDiversity2021: \" Capturing the Diversity of Multilingual Societies  \"\n",
      "../_publications/2025-07-10-When-Dialects-Collide-How-Socioeconomic-Mixing-Affects-Language-Use.md\n",
      "SUCESSFULLY PARSED LoufWhenDialects2025: \" When Dialects Collide: How Socioeconomic Mixing Affects Lang ... \"\n"
     ]
    }
   ],
   "source": [
    "pubs = pybtex.database.parse_file(project_root / 'CV' / 'me.bib')\n",
    "my_name = 'Thomas Louf'\n",
    "my_cit_name = 'Louf, T.'\n",
    "\n",
    "for i, (bib_id, p) in enumerate(pubs.entries.items()):\n",
    "    yaml_dict = {'collection': 'publications'}\n",
    "    # add venue logic depending on citation type\n",
    "    if p.type in ('incollection', 'inproceedings'):\n",
    "        venue_key = 'booktitle'\n",
    "    elif p.type == 'article':\n",
    "        venue_key = 'journal'\n",
    "        if 'journaltitle' in p.fields:\n",
    "            p.fields['journal'] = p.fields['journaltitle']\n",
    "    elif p.type in ['online', 'misc', 'unpublished'] and 'eprinttype' in p.fields:\n",
    "        venue_key = 'eprinttype'\n",
    "    else:\n",
    "        continue\n",
    "    yaml_dict['type'] = p.type\n",
    "    venue = p.fields.get(venue_key, '').replace(\"{\", \"\").replace(\"}\",\"\").replace(\"\\\\\",\"\")\n",
    "    yaml_dict['venue'] = html_escape(venue)\n",
    "\n",
    "    if 'date' in p.fields:\n",
    "        pub_date = p.fields['date']\n",
    "        try:\n",
    "            date = datetime.strptime(p.fields['date'], '%Y-%m-%d')\n",
    "        except ValueError:\n",
    "            matches = re.match(r'([0-9]{4})-?([0-9]{2})?-?([0-9]{2})?', pub_date)\n",
    "            pub_year, pub_month, pub_day = matches.groups()\n",
    "            print(pub_year, pub_month, pub_day)\n",
    "        else:\n",
    "            pub_year = str(date.year)\n",
    "            pub_month = datetime.strftime(date, '%m')\n",
    "            pub_day = str(date.day)\n",
    "            pub_date = str(date.date())\n",
    "        finally:\n",
    "            p.fields['year'] = pub_year\n",
    "    else:\n",
    "        pub_year = p.fields['year'][:4]\n",
    "        #todo: this hack for month and day needs some cleanup\n",
    "        pub_month = p.fields.get('month')\n",
    "        pub_day = p.fields.get('day')\n",
    "        pub_date = '-'.join([x for x in [pub_year, pub_month, pub_day] if x is not None])\n",
    "\n",
    "    full_month = ''\n",
    "    if pub_month is not None:\n",
    "        if len(pub_month) < 3:\n",
    "            pub_month = \"0\" + pub_month\n",
    "            pub_month = pub_month[-2:]\n",
    "        elif pub_month not in range(12):\n",
    "            tmnth = datetime.strptime(pub_month[:3],'%b').tm_mon   \n",
    "            pub_month = \"{:02d}\".format(tmnth) \n",
    "        else:\n",
    "            pub_month = str(pub_month)\n",
    "        full_month = datetime.strftime(datetime.strptime(pub_month, '%m'), '%B')\n",
    "\n",
    "    if pub_month is None:\n",
    "        pretty_date = f'{pub_year}'\n",
    "    elif pub_day is None:\n",
    "        pretty_date = f'{full_month}, {pub_year}'\n",
    "    else:\n",
    "        pretty_date = f'{full_month} {pub_day}, {pub_year}'\n",
    "    yaml_dict['print_date'] = pretty_date\n",
    "\n",
    "    pub_title = p.fields['title']\n",
    "    # strip out {} as needed (some bibtex entries that maintain formatting)\n",
    "    clean_title = pub_title.replace(\"{\", \"\").replace(\"}\",\"\").replace(\"\\\\\",\"\")\n",
    "    yaml_dict['title'] = html_escape(clean_title)\n",
    "    \n",
    "    url_slug = re.sub(\"\\\\[.*\\\\]|[^a-zA-Z0-9_-]\", \"\", clean_title.replace(\" \",\"-\")).replace(\"--\",\"-\")\n",
    "    file_path = project_root / \"_publications\" / f\"{pub_date}-{url_slug}.md\"\n",
    "    # md_filename = (str(pub_date) + \"-\" + url_slug + \".md\").replace(\"--\",\"-\")\n",
    "    html_filename = file_path.stem\n",
    "    yaml_dict['permalink'] = '/publications/'  + html_filename\n",
    "    \n",
    "    authors = p.persons[\"author\"]\n",
    "    author_iter = zip(\n",
    "        [' '.join(a.first_names) for a in authors],\n",
    "        [' '.join(a.middle_names) for a in authors],\n",
    "        [' '.join(a.last_names) for a in authors])\n",
    "    authors = ', '.join([' '.join(a) for a in author_iter])\n",
    "    authors = text_to_HTML(pybtex.richtext.Text.from_latex(authors))\n",
    "    start_idx = authors.find(my_name)\n",
    "    bolded = f\"<span class='author_is_me'>{my_name}</span>\"\n",
    "    authors = authors[:start_idx] + bolded + authors[start_idx+len(my_name):]\n",
    "    yaml_dict['authors'] = authors\n",
    "\n",
    "    if 'url' in p.fields:\n",
    "        yaml_dict['paperurl'] = p.fields['url']\n",
    "    elif 'doi' in p.fields:\n",
    "        yaml_dict['paperurl'] = f\"https://doi.org/{p.fields['doi']}\"\n",
    "    yaml_dict['arxivId'] = p.fields.get('arxivId')\n",
    "\n",
    "    # Build Citation from text\n",
    "    citation = bib2html(p, exclude_fields=['month', 'url'])\n",
    "    yaml_dict['citation'] = re.sub(r'\"|[a-z&]{3,5};', '', html_escape(citation))\n",
    "\n",
    "    # YAML variables\n",
    "    md = '---\\n'\n",
    "    md += '\\n'.join([f'{key}: \"{value}\"' for key, value in yaml_dict.items() if value])\n",
    "    md += '\\n---'\n",
    "    # Content\n",
    "    md += '\\n' + text_to_HTML(pybtex.richtext.Text.from_latex(p.fields.get('abstract', '')))\n",
    "\n",
    "    with open(file_path, 'w') as f:\n",
    "        print(file_path)\n",
    "        f.write(md)\n",
    "    print(f'SUCESSFULLY PARSED {bib_id}: \\\"', pub_title[:60],\"...\"*(len(pub_title)>60),\"\\\"\")"
   ]
  },
  {
   "cell_type": "code",
   "execution_count": null,
   "metadata": {},
   "outputs": [],
   "source": []
  }
 ],
 "metadata": {
  "kernelspec": {
   "display_name": "Python 3",
   "language": "python",
   "name": "python3"
  },
  "language_info": {
   "codemirror_mode": {
    "name": "ipython",
    "version": 3
   },
   "file_extension": ".py",
   "mimetype": "text/x-python",
   "name": "python",
   "nbconvert_exporter": "python",
   "pygments_lexer": "ipython3",
   "version": "3.11.13"
  }
 },
 "nbformat": 4,
 "nbformat_minor": 4
}
