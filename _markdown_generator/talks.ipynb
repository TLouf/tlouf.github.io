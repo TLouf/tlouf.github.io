{
 "cells": [
  {
   "attachments": {},
   "cell_type": "markdown",
   "metadata": {
    "deletable": true,
    "editable": true
   },
   "source": [
    "# Talks markdown generator for academicpages\n",
    "\n",
    "Takes a JSON of talks with metadata and converts them for use with [academicpages.github.io](academicpages.github.io). This is an interactive Jupyter notebook ([see more info here](http://jupyter-notebook-beginner-guide.readthedocs.io/en/latest/what_is_jupyter.html)). The core python code is also in `talks.py`. Run either from the `markdown_generator` folder after replacing `talks.json` with one containing your data."
   ]
  },
  {
   "cell_type": "code",
   "execution_count": 27,
   "metadata": {
    "collapsed": false,
    "deletable": true,
    "editable": true,
    "jupyter": {
     "outputs_hidden": false
    }
   },
   "outputs": [],
   "source": [
    "from pathlib import Path\n",
    "import re\n",
    "\n",
    "import pandas as pd"
   ]
  },
  {
   "cell_type": "code",
   "execution_count": 28,
   "metadata": {},
   "outputs": [],
   "source": [
    "project_root = Path(\"..\")"
   ]
  },
  {
   "attachments": {},
   "cell_type": "markdown",
   "metadata": {},
   "source": [
    "## Import json"
   ]
  },
  {
   "cell_type": "code",
   "execution_count": 29,
   "metadata": {
    "collapsed": false,
    "deletable": true,
    "editable": true,
    "jupyter": {
     "outputs_hidden": false
    }
   },
   "outputs": [
    {
     "data": {
      "text/html": [
       "<div>\n",
       "<style scoped>\n",
       "    .dataframe tbody tr th:only-of-type {\n",
       "        vertical-align: middle;\n",
       "    }\n",
       "\n",
       "    .dataframe tbody tr th {\n",
       "        vertical-align: top;\n",
       "    }\n",
       "\n",
       "    .dataframe thead th {\n",
       "        text-align: right;\n",
       "    }\n",
       "</style>\n",
       "<table border=\"1\" class=\"dataframe\">\n",
       "  <thead>\n",
       "    <tr style=\"text-align: right;\">\n",
       "      <th></th>\n",
       "      <th>title</th>\n",
       "      <th>authors</th>\n",
       "      <th>collection</th>\n",
       "      <th>type</th>\n",
       "      <th>venue</th>\n",
       "      <th>venueurl</th>\n",
       "      <th>date</th>\n",
       "      <th>location</th>\n",
       "    </tr>\n",
       "  </thead>\n",
       "  <tbody>\n",
       "    <tr>\n",
       "      <th>0</th>\n",
       "      <td>American cultural regions mapped through the l...</td>\n",
       "      <td>T. Louf, B. Gonçalves,  J.J. Ramasco, D. Sánch...</td>\n",
       "      <td>talks</td>\n",
       "      <td>Talk</td>\n",
       "      <td>COMPILA satellite of the Conference on Complex...</td>\n",
       "      <td>https://compila2022.ifisc.uib-csic.es</td>\n",
       "      <td>2022-10-20</td>\n",
       "      <td>Palma, Spain</td>\n",
       "    </tr>\n",
       "    <tr>\n",
       "      <th>1</th>\n",
       "      <td>Capturing the diversity of multilingual societies</td>\n",
       "      <td>T. Louf, D. Sánchez, J.J. Ramasco</td>\n",
       "      <td>talks</td>\n",
       "      <td>Talk</td>\n",
       "      <td>Conference on Complex Systems</td>\n",
       "      <td>https://ccs2021.univ-lyon1.fr</td>\n",
       "      <td>2021-10-29</td>\n",
       "      <td>Lyon, France</td>\n",
       "    </tr>\n",
       "    <tr>\n",
       "      <th>2</th>\n",
       "      <td>Capturing the diversity of multilingual societies</td>\n",
       "      <td>T. Louf, D. Sánchez, J.J. Ramasco</td>\n",
       "      <td>talks</td>\n",
       "      <td>Talk</td>\n",
       "      <td>VII COMSOTEC Workshop</td>\n",
       "      <td>https://sites.google.com/view/comsotectgn22</td>\n",
       "      <td>2022-04-01</td>\n",
       "      <td>Tarragona, Spain</td>\n",
       "    </tr>\n",
       "    <tr>\n",
       "      <th>3</th>\n",
       "      <td>Bilingual societies: from data to agent-based ...</td>\n",
       "      <td>T. Louf, D. Sánchez, J.J. Ramasco</td>\n",
       "      <td>talks</td>\n",
       "      <td>Talk</td>\n",
       "      <td>Computational Social Science satellite of the ...</td>\n",
       "      <td>https://sites.google.com/view/css-ccs20</td>\n",
       "      <td>2020-12-09</td>\n",
       "      <td>online</td>\n",
       "    </tr>\n",
       "  </tbody>\n",
       "</table>\n",
       "</div>"
      ],
      "text/plain": [
       "                                               title   \n",
       "0  American cultural regions mapped through the l...  \\\n",
       "1  Capturing the diversity of multilingual societies   \n",
       "2  Capturing the diversity of multilingual societies   \n",
       "3  Bilingual societies: from data to agent-based ...   \n",
       "\n",
       "                                             authors collection  type   \n",
       "0  T. Louf, B. Gonçalves,  J.J. Ramasco, D. Sánch...      talks  Talk  \\\n",
       "1                  T. Louf, D. Sánchez, J.J. Ramasco      talks  Talk   \n",
       "2                  T. Louf, D. Sánchez, J.J. Ramasco      talks  Talk   \n",
       "3                  T. Louf, D. Sánchez, J.J. Ramasco      talks  Talk   \n",
       "\n",
       "                                               venue   \n",
       "0  COMPILA satellite of the Conference on Complex...  \\\n",
       "1                      Conference on Complex Systems   \n",
       "2                              VII COMSOTEC Workshop   \n",
       "3  Computational Social Science satellite of the ...   \n",
       "\n",
       "                                      venueurl       date          location  \n",
       "0        https://compila2022.ifisc.uib-csic.es 2022-10-20      Palma, Spain  \n",
       "1                https://ccs2021.univ-lyon1.fr 2021-10-29      Lyon, France  \n",
       "2  https://sites.google.com/view/comsotectgn22 2022-04-01  Tarragona, Spain  \n",
       "3      https://sites.google.com/view/css-ccs20 2020-12-09            online  "
      ]
     },
     "execution_count": 29,
     "metadata": {},
     "output_type": "execute_result"
    }
   ],
   "source": [
    "talks = pd.read_json(project_root / \"CV\" / \"talks.json\", orient=\"records\")\n",
    "talks"
   ]
  },
  {
   "attachments": {},
   "cell_type": "markdown",
   "metadata": {},
   "source": [
    "## Escape special characters\n",
    "\n",
    "YAML is very picky about how it takes a valid string, so we are replacing single and double quotes (and ampersands) with their HTML encoded equivilents. This makes them look not so readable in raw format, but they are parsed and rendered nicely."
   ]
  },
  {
   "cell_type": "code",
   "execution_count": 8,
   "metadata": {
    "collapsed": false,
    "deletable": true,
    "editable": true,
    "jupyter": {
     "outputs_hidden": false
    }
   },
   "outputs": [],
   "source": [
    "html_escape_table = {\n",
    "    \"&\": \"&amp;\",\n",
    "    '\"': \"&quot;\",\n",
    "    \"'\": \"&apos;\"\n",
    "    }\n",
    "\n",
    "def html_escape(text):\n",
    "    if type(text) is str:\n",
    "        return \"\".join(html_escape_table.get(c,c) for c in text)\n",
    "    else:\n",
    "        return \"False\""
   ]
  },
  {
   "attachments": {},
   "cell_type": "markdown",
   "metadata": {},
   "source": [
    "## Creating the markdown files"
   ]
  },
  {
   "cell_type": "code",
   "execution_count": 31,
   "metadata": {
    "collapsed": false,
    "deletable": true,
    "editable": true,
    "jupyter": {
     "outputs_hidden": false
    }
   },
   "outputs": [
    {
     "name": "stdout",
     "output_type": "stream",
     "text": [
      "../_talks/2022-10-20-American-cultural-regions-mapped-through-the-lexical-analysis-of-social-media.md\n",
      "../_talks/2021-10-29-Capturing-the-diversity-of-multilingual-societies.md\n",
      "../_talks/2022-04-01-Capturing-the-diversity-of-multilingual-societies.md\n",
      "../_talks/2020-12-09-Bilingual-societies-from-data-to-agent-based-modeling.md\n"
     ]
    }
   ],
   "source": [
    "loc_dict = {}\n",
    "\n",
    "for row, item in talks.iterrows():\n",
    "    clean_title = item.title.replace(\"{\", \"\").replace(\"}\",\"\").replace(\"\\\\\",\"\")\n",
    "    url_slug = re.sub(\"\\\\[.*\\\\]|[^a-zA-Z0-9_-]\", \"\", clean_title.replace(\" \",\"-\")).replace(\"--\",\"-\")\n",
    "    date = str(item.date.date())\n",
    "    file_path = project_root / \"_talks\" / f\"{date}-{url_slug}.md\"\n",
    "    html_filename = file_path.stem\n",
    "\n",
    "    md = \"---\\ntitle: \\\"\"   + clean_title + '\"\\n'\n",
    "    md += \"collection: talks\" + \"\\n\"\n",
    "    md += \"date: \" + date + \"\\n\"\n",
    "\n",
    "    if \"type\" in item:\n",
    "        md += 'type: \"' + item.type + '\"\\n'\n",
    "    else:\n",
    "        md += 'type: \"Talk\"\\n'\n",
    "\n",
    "    md += \"permalink: /talks/\" + html_filename + \"\\n\"\n",
    "    \n",
    "    if \"venue\" in item:\n",
    "        md += 'venue: \"' + item.venue + '\"\\n'\n",
    "\n",
    "    if \"location\" in item:\n",
    "        md += 'location: \"' + str(item.location) + '\"\\n'\n",
    "\n",
    "    if \"venueurl\" in item:\n",
    "        md += 'venueurl: \"' + item.venueurl + '\"\\n'\n",
    "        \n",
    "    md += \"---\\n\"\n",
    "\n",
    "    if \"description\" in item:\n",
    "        md += \"\\n\" + html_escape(item.description) + \"\\n\"\n",
    "\n",
    "    with open(file_path, 'w') as f:\n",
    "        print(file_path)\n",
    "        f.write(md)"
   ]
  },
  {
   "cell_type": "code",
   "execution_count": null,
   "metadata": {},
   "outputs": [],
   "source": []
  }
 ],
 "metadata": {
  "kernelspec": {
   "display_name": "Python 3",
   "language": "python",
   "name": "python3"
  },
  "language_info": {
   "codemirror_mode": {
    "name": "ipython",
    "version": 3
   },
   "file_extension": ".py",
   "mimetype": "text/x-python",
   "name": "python",
   "nbconvert_exporter": "python",
   "pygments_lexer": "ipython3",
   "version": "3.10.6"
  }
 },
 "nbformat": 4,
 "nbformat_minor": 4
}
