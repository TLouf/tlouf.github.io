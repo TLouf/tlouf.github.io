{
 "cells": [
  {
   "cell_type": "markdown",
   "metadata": {},
   "source": [
    "# Publications markdown generator for academicpages\n",
    "\n",
    "Takes a set of bibtex of publications and converts them for use with [academicpages.github.io](academicpages.github.io). This is an interactive Jupyter notebook ([see more info here](http://jupyter-notebook-beginner-guide.readthedocs.io/en/latest/what_is_jupyter.html)). \n",
    "\n",
    "The core python code is also in `pubsFromBibs.py`. \n",
    "Run either from the `markdown_generator` folder after replacing updating the publist dictionary with:\n",
    "* bib file names\n",
    "* specific venue keys based on your bib file preferences\n",
    "* any specific pre-text for specific files\n",
    "* Collection Name (future feature)\n",
    "\n",
    "TODO: Make this work with other databases of citations, \n",
    "TODO: Merge this with the existing TSV parsing solution"
   ]
  },
  {
   "cell_type": "markdown",
   "metadata": {},
   "source": [
    "TODO: make it parse from bib with entries not necessarily all written by author"
   ]
  },
  {
   "cell_type": "code",
   "execution_count": 1,
   "metadata": {},
   "outputs": [],
   "source": [
    "from pybtex.database.input import bibtex\n",
    "import pybtex.database.input.bibtex\n",
    "import pybtex\n",
    "import time\n",
    "import html\n",
    "import os\n",
    "import re"
   ]
  },
  {
   "cell_type": "code",
   "execution_count": 2,
   "metadata": {},
   "outputs": [],
   "source": [
    "html_escape_table = {\n",
    "    \"&\": \"&amp;\",\n",
    "    '\"': \"&quot;\",\n",
    "    \"'\": \"&apos;\"\n",
    "    }\n",
    "\n",
    "def html_escape(text):\n",
    "    \"\"\"Produce entities within text.\"\"\"\n",
    "    return \"\".join(html_escape_table.get(c,c) for c in text)"
   ]
  },
  {
   "cell_type": "code",
   "execution_count": 3,
   "metadata": {},
   "outputs": [],
   "source": [
    "from pybtex.plugin import find_plugin\n",
    "from pybtex.database import parse_string\n",
    "from pybtex.backends import markdown\n",
    "APA = find_plugin('pybtex.style.formatting', 'apa')()\n",
    "HTML = find_plugin('pybtex.backends', 'html')()\n",
    "MD = markdown.Backend()\n",
    "def bib2html(bibliography, exclude_fields=None):\n",
    "    exclude_fields = exclude_fields or []\n",
    "    if exclude_fields:\n",
    "        bibliography = parse_string(bibliography.to_string('bibtex'), 'bibtex')\n",
    "        for entry in bibliography.entries.values():\n",
    "            for ef in exclude_fields:\n",
    "                if ef in entry.fields.__dict__['_dict']:\n",
    "                    del entry.fields.__dict__['_dict'][ef]\n",
    "    formattedBib = APA.format_bibliography(bibliography)\n",
    "    return [text_to_HTML(entry.text) for entry in formattedBib]\n",
    "\n",
    "def text_to_HTML(text):\n",
    "    return text.render(HTML).replace('<span class=\"bibtex-protected\">', '').replace('</span>', '')\n",
    "# def bib2md(bibliography, exclude_fields=None):\n",
    "#     exclude_fields = exclude_fields or []\n",
    "#     if exclude_fields:\n",
    "#         bibliography = parse_string(bibliography.to_string('bibtex'), 'bibtex')\n",
    "#         for entry in bibliography.entries.values():\n",
    "#             for ef in exclude_fields:\n",
    "#                 if ef in entry.fields.__dict__['_dict']:\n",
    "#                     del entry.fields.__dict__['_dict'][ef]\n",
    "#     formattedBib = APA.format_bibliography(bibliography)\n",
    "#     return [entry.text.render(MD).replace('<span class=\"bibtex-protected\">', '').replace('</span>', '') for entry in formattedBib]"
   ]
  },
  {
   "cell_type": "code",
   "execution_count": 6,
   "metadata": {},
   "outputs": [
    {
     "name": "stdout",
     "output_type": "stream",
     "text": [
      "SUCESSFULLY PARSED GanicDynamicNoise2020: \" Dynamic Noise Maps for Ljubljana Airport  \"\n",
      "SUCESSFULLY PARSED LoufAmericanCultural2022: \" American Cultural Regions Mapped through the Lexical Analysi ... \"\n",
      "SUCESSFULLY PARSED LoufCapturingDiversity2021: \" Capturing the Diversity of Multilingual Societies  \"\n"
     ]
    }
   ],
   "source": [
    "pubs = pybtex.database.parse_file('me.bib')\n",
    "my_name = 'Thomas Louf'\n",
    "my_cit_name = 'Louf, T.'\n",
    "\n",
    "for i, (bib_id, p) in enumerate(pubs.entries.items()):\n",
    "    yaml_dict = {'collection': 'publications'}\n",
    "    try:\n",
    "        pub_year = p.fields['year']\n",
    "\n",
    "        #todo: this hack for month and day needs some cleanup\n",
    "        pub_month = p.fields.get('month')\n",
    "        full_month = ''\n",
    "        if pub_month is not None:\n",
    "            if len(pub_month) < 3:\n",
    "                pub_month = \"0\" + pub_month\n",
    "                pub_month = pub_month[-2:]\n",
    "            elif pub_month not in range(12):\n",
    "                tmnth = time.strptime(pub_month[:3],'%b').tm_mon   \n",
    "                pub_month = \"{:02d}\".format(tmnth) \n",
    "            else:\n",
    "                pub_month = str(pub_month)\n",
    "            full_month = time.strftime('%B', time.strptime(pub_month, '%m'))\n",
    "        pub_day = p.fields.get('day')\n",
    "\n",
    "        pub_date = '-'.join([x for x in [pub_year, pub_month, pub_day] if x is not None])\n",
    "        if pub_month is None:\n",
    "            pretty_date = pub_year\n",
    "        elif pub_day is None:\n",
    "            pretty_date = f'{full_month}, {pub_year}'\n",
    "        else:\n",
    "            pretty_date = f'{full_month} {pub_day}, {pub_year}'\n",
    "        yaml_dict['print_date'] = pretty_date\n",
    "        \n",
    "        pub_title = p.fields['title']\n",
    "        # strip out {} as needed (some bibtex entries that maintain formatting)\n",
    "        clean_title = pub_title.replace(\"{\", \"\").replace(\"}\",\"\").replace(\"\\\\\",\"\")\n",
    "        yaml_dict['title'] = html_escape(clean_title)\n",
    "        \n",
    "        url_slug = re.sub(\"\\\\[.*\\\\]|[^a-zA-Z0-9_-]\", \"\", clean_title.replace(\" \",\"-\")).replace(\"--\",\"-\")\n",
    "        md_filename = (str(pub_date) + \"-\" + url_slug + \".md\").replace(\"--\",\"-\")\n",
    "        html_filename = (str(pub_date) + \"-\" + url_slug).replace(\"--\",\"-\")\n",
    "        yaml_dict['permalink'] = '/publication/'  + html_filename\n",
    "        \n",
    "        # Build Citation from text\n",
    "        citation = bib2html(p, exclude_fields=['month', 'url'])\n",
    "        yaml_dict['citation'] = re.sub(r'\"|[a-z&]{3,5};', '', html_escape(citation))\n",
    "        yaml_dict['type'] = p.type\n",
    "        # add venue logic depending on citation type\n",
    "        # if p.type != 'unpublished':\n",
    "        if p.type == 'inproceedings':\n",
    "            venue_key = 'booktitle'\n",
    "        elif p.type == 'article':\n",
    "            venue_key = 'journal'\n",
    "        elif p.type in ['misc', 'unpublished']:\n",
    "            venue_key = 'archiveprefix'\n",
    "        venue = p.fields.get(venue_key, '').replace(\"{\", \"\").replace(\"}\",\"\").replace(\"\\\\\",\"\")\n",
    "        yaml_dict['venue'] = html_escape(venue)\n",
    "            \n",
    "        authors = p.persons[\"author\"]\n",
    "        author_iter = zip(\n",
    "            [' '.join(a.first_names) for a in authors],\n",
    "            [' '.join(a.middle_names) for a in authors],\n",
    "            [' '.join(a.last_names) for a in authors])\n",
    "        authors = ', '.join([' '.join(a) for a in author_iter])\n",
    "        authors = text_to_HTML(pybtex.richtext.Text.from_latex(authors))\n",
    "        start_idx = authors.find(my_name)\n",
    "        bolded = f'<b>{my_name}</b>'\n",
    "        authors = authors[:start_idx] + bolded + authors[start_idx+len(my_name):]\n",
    "        yaml_dict['authors'] = authors\n",
    "        \n",
    "        yaml_dict['paperurl'] = p.fields.get('url')\n",
    "        yaml_dict['arxivId'] = p.fields.get('arxivId')\n",
    "        # YAML variables\n",
    "        md = '---\\n'\n",
    "        md += '\\n'.join([f'{key}: \"{value}\"' for key, value in yaml_dict.items() if value])\n",
    "        md += '\\n---'\n",
    "        # Content\n",
    "        md += '\\n' + text_to_HTML(pybtex.richtext.Text.from_latex(p.fields.get('abstract', '')))\n",
    "        \n",
    "        md_filename = os.path.basename(md_filename)\n",
    "        with open(\"../_publications/\" + md_filename, 'w') as f:\n",
    "            f.write(md)\n",
    "        print(f'SUCESSFULLY PARSED {bib_id}: \\\"', pub_title[:60],\"...\"*(len(pub_title)>60),\"\\\"\")\n",
    "    # field may not exist for a reference\n",
    "    except KeyError as e:\n",
    "        print(f'WARNING Missing Expected Field {e} from entry {bib_id}: \\\"', pub_title[:30],\"...\"*(len(pub_title)>30),\"\\\"\")\n",
    "        continue\n",
    "    # break"
   ]
  },
  {
   "cell_type": "code",
   "execution_count": null,
   "metadata": {},
   "outputs": [],
   "source": []
  }
 ],
 "metadata": {
  "kernelspec": {
   "display_name": "Python 3.10.6 ('.venv': venv)",
   "language": "python",
   "name": "python3"
  },
  "language_info": {
   "codemirror_mode": {
    "name": "ipython",
    "version": 3
   },
   "file_extension": ".py",
   "mimetype": "text/x-python",
   "name": "python",
   "nbconvert_exporter": "python",
   "pygments_lexer": "ipython3",
   "version": "3.10.6"
  },
  "vscode": {
   "interpreter": {
    "hash": "f8c24618fd1c3195eb191f0c53a4f8409ae852c8f60fed2b04e85d2a389b9d86"
   }
  }
 },
 "nbformat": 4,
 "nbformat_minor": 4
}
